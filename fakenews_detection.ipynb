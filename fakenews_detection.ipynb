{
  "nbformat": 4,
  "nbformat_minor": 0,
  "metadata": {
    "colab": {
      "provenance": []
    },
    "kernelspec": {
      "name": "python3",
      "display_name": "Python 3"
    },
    "language_info": {
      "name": "python"
    }
  },
  "cells": [
    {
      "cell_type": "code",
      "source": [
        "import nltk\n",
        "nltk.download('stopwords')"
      ],
      "metadata": {
        "colab": {
          "base_uri": "https://localhost:8080/"
        },
        "id": "9daERrzzPCwf",
        "outputId": "b0d9b8d8-768d-43c7-a095-4daa910ce2e2"
      },
      "execution_count": null,
      "outputs": [
        {
          "output_type": "stream",
          "name": "stderr",
          "text": [
            "[nltk_data] Downloading package stopwords to /root/nltk_data...\n",
            "[nltk_data]   Unzipping corpora/stopwords.zip.\n"
          ]
        },
        {
          "output_type": "execute_result",
          "data": {
            "text/plain": [
              "True"
            ]
          },
          "metadata": {},
          "execution_count": 2
        }
      ]
    },
    {
      "cell_type": "code",
      "source": [],
      "metadata": {
        "id": "Mydtnf3UioBX"
      },
      "execution_count": null,
      "outputs": []
    },
    {
      "cell_type": "code",
      "execution_count": null,
      "metadata": {
        "id": "gjiN-gmnJ7TH"
      },
      "outputs": [],
      "source": [
        "import numpy as np\n",
        "import pandas as pd\n",
        "import re\n",
        "from nltk.corpus import stopwords\n",
        "from nltk.stem.porter import PorterStemmer\n",
        "from sklearn.feature_extraction.text  import TfidfVectorizer\n",
        "from sklearn.model_selection import train_test_split\n",
        "from sklearn.linear_model import LogisticRegression\n",
        "from sklearn.metrics import accuracy_score"
      ]
    },
    {
      "cell_type": "code",
      "source": [
        "news_dataset = pd.read_csv('/content/newss.csv')"
      ],
      "metadata": {
        "id": "6HfgG4DpQLMh",
        "colab": {
          "base_uri": "https://localhost:8080/",
          "height": 166
        },
        "outputId": "ec3d5615-836c-41de-f09a-549f4781e96a"
      },
      "execution_count": null,
      "outputs": [
        {
          "output_type": "error",
          "ename": "NameError",
          "evalue": "ignored",
          "traceback": [
            "\u001b[0;31m---------------------------------------------------------------------------\u001b[0m",
            "\u001b[0;31mNameError\u001b[0m                                 Traceback (most recent call last)",
            "\u001b[0;32m<ipython-input-1-92763288da6d>\u001b[0m in \u001b[0;36m<cell line: 1>\u001b[0;34m()\u001b[0m\n\u001b[0;32m----> 1\u001b[0;31m \u001b[0mnews_dataset\u001b[0m \u001b[0;34m=\u001b[0m \u001b[0mpd\u001b[0m\u001b[0;34m.\u001b[0m\u001b[0mread_csv\u001b[0m\u001b[0;34m(\u001b[0m\u001b[0;34m'/content/newss.csv'\u001b[0m\u001b[0;34m)\u001b[0m\u001b[0;34m\u001b[0m\u001b[0;34m\u001b[0m\u001b[0m\n\u001b[0m",
            "\u001b[0;31mNameError\u001b[0m: name 'pd' is not defined"
          ]
        }
      ]
    },
    {
      "cell_type": "code",
      "source": [
        "news_dataset.shape"
      ],
      "metadata": {
        "colab": {
          "base_uri": "https://localhost:8080/",
          "height": 166
        },
        "id": "2tMXKMeiQZ5K",
        "outputId": "5b1b4334-649f-4c90-a23b-f473b66638d2"
      },
      "execution_count": null,
      "outputs": [
        {
          "output_type": "error",
          "ename": "NameError",
          "evalue": "ignored",
          "traceback": [
            "\u001b[0;31m---------------------------------------------------------------------------\u001b[0m",
            "\u001b[0;31mNameError\u001b[0m                                 Traceback (most recent call last)",
            "\u001b[0;32m<ipython-input-5-45c5752a66f1>\u001b[0m in \u001b[0;36m<cell line: 1>\u001b[0;34m()\u001b[0m\n\u001b[0;32m----> 1\u001b[0;31m \u001b[0mnews_dataset\u001b[0m\u001b[0;34m.\u001b[0m\u001b[0mshape\u001b[0m\u001b[0;34m\u001b[0m\u001b[0;34m\u001b[0m\u001b[0m\n\u001b[0m",
            "\u001b[0;31mNameError\u001b[0m: name 'news_dataset' is not defined"
          ]
        }
      ]
    },
    {
      "cell_type": "code",
      "source": [
        "news_dataset.head()"
      ],
      "metadata": {
        "colab": {
          "base_uri": "https://localhost:8080/",
          "height": 354
        },
        "id": "R4UIqNgvQg98",
        "outputId": "b8c44d39-bdc7-486c-febf-2a9c05f48577"
      },
      "execution_count": null,
      "outputs": [
        {
          "output_type": "execute_result",
          "data": {
            "text/plain": [
              "   Unnamed: 0                                              title  \\\n",
              "0        8476                       You Can Smell Hillary’s Fear   \n",
              "1       10294  Watch The Exact Moment Paul Ryan Committed Pol...   \n",
              "2        3608        Kerry to go to Paris in gesture of sympathy   \n",
              "3       10142  Bernie supporters on Twitter erupt in anger ag...   \n",
              "4         875   The Battle of New York: Why This Primary Matters   \n",
              "\n",
              "                                                text label  \n",
              "0  Daniel Greenfield, a Shillman Journalism Fello...  FAKE  \n",
              "1  Google Pinterest Digg Linkedin Reddit Stumbleu...  FAKE  \n",
              "2  U.S. Secretary of State John F. Kerry said Mon...  REAL  \n",
              "3  — Kaydee King (@KaydeeKing) November 9, 2016 T...  FAKE  \n",
              "4  It's primary day in New York and front-runners...  REAL  "
            ],
            "text/html": [
              "\n",
              "  <div id=\"df-8877057f-afea-47c5-9275-cc27d6228609\">\n",
              "    <div class=\"colab-df-container\">\n",
              "      <div>\n",
              "<style scoped>\n",
              "    .dataframe tbody tr th:only-of-type {\n",
              "        vertical-align: middle;\n",
              "    }\n",
              "\n",
              "    .dataframe tbody tr th {\n",
              "        vertical-align: top;\n",
              "    }\n",
              "\n",
              "    .dataframe thead th {\n",
              "        text-align: right;\n",
              "    }\n",
              "</style>\n",
              "<table border=\"1\" class=\"dataframe\">\n",
              "  <thead>\n",
              "    <tr style=\"text-align: right;\">\n",
              "      <th></th>\n",
              "      <th>Unnamed: 0</th>\n",
              "      <th>title</th>\n",
              "      <th>text</th>\n",
              "      <th>label</th>\n",
              "    </tr>\n",
              "  </thead>\n",
              "  <tbody>\n",
              "    <tr>\n",
              "      <th>0</th>\n",
              "      <td>8476</td>\n",
              "      <td>You Can Smell Hillary’s Fear</td>\n",
              "      <td>Daniel Greenfield, a Shillman Journalism Fello...</td>\n",
              "      <td>FAKE</td>\n",
              "    </tr>\n",
              "    <tr>\n",
              "      <th>1</th>\n",
              "      <td>10294</td>\n",
              "      <td>Watch The Exact Moment Paul Ryan Committed Pol...</td>\n",
              "      <td>Google Pinterest Digg Linkedin Reddit Stumbleu...</td>\n",
              "      <td>FAKE</td>\n",
              "    </tr>\n",
              "    <tr>\n",
              "      <th>2</th>\n",
              "      <td>3608</td>\n",
              "      <td>Kerry to go to Paris in gesture of sympathy</td>\n",
              "      <td>U.S. Secretary of State John F. Kerry said Mon...</td>\n",
              "      <td>REAL</td>\n",
              "    </tr>\n",
              "    <tr>\n",
              "      <th>3</th>\n",
              "      <td>10142</td>\n",
              "      <td>Bernie supporters on Twitter erupt in anger ag...</td>\n",
              "      <td>— Kaydee King (@KaydeeKing) November 9, 2016 T...</td>\n",
              "      <td>FAKE</td>\n",
              "    </tr>\n",
              "    <tr>\n",
              "      <th>4</th>\n",
              "      <td>875</td>\n",
              "      <td>The Battle of New York: Why This Primary Matters</td>\n",
              "      <td>It's primary day in New York and front-runners...</td>\n",
              "      <td>REAL</td>\n",
              "    </tr>\n",
              "  </tbody>\n",
              "</table>\n",
              "</div>\n",
              "      <button class=\"colab-df-convert\" onclick=\"convertToInteractive('df-8877057f-afea-47c5-9275-cc27d6228609')\"\n",
              "              title=\"Convert this dataframe to an interactive table.\"\n",
              "              style=\"display:none;\">\n",
              "        \n",
              "  <svg xmlns=\"http://www.w3.org/2000/svg\" height=\"24px\"viewBox=\"0 0 24 24\"\n",
              "       width=\"24px\">\n",
              "    <path d=\"M0 0h24v24H0V0z\" fill=\"none\"/>\n",
              "    <path d=\"M18.56 5.44l.94 2.06.94-2.06 2.06-.94-2.06-.94-.94-2.06-.94 2.06-2.06.94zm-11 1L8.5 8.5l.94-2.06 2.06-.94-2.06-.94L8.5 2.5l-.94 2.06-2.06.94zm10 10l.94 2.06.94-2.06 2.06-.94-2.06-.94-.94-2.06-.94 2.06-2.06.94z\"/><path d=\"M17.41 7.96l-1.37-1.37c-.4-.4-.92-.59-1.43-.59-.52 0-1.04.2-1.43.59L10.3 9.45l-7.72 7.72c-.78.78-.78 2.05 0 2.83L4 21.41c.39.39.9.59 1.41.59.51 0 1.02-.2 1.41-.59l7.78-7.78 2.81-2.81c.8-.78.8-2.07 0-2.86zM5.41 20L4 18.59l7.72-7.72 1.47 1.35L5.41 20z\"/>\n",
              "  </svg>\n",
              "      </button>\n",
              "      \n",
              "  <style>\n",
              "    .colab-df-container {\n",
              "      display:flex;\n",
              "      flex-wrap:wrap;\n",
              "      gap: 12px;\n",
              "    }\n",
              "\n",
              "    .colab-df-convert {\n",
              "      background-color: #E8F0FE;\n",
              "      border: none;\n",
              "      border-radius: 50%;\n",
              "      cursor: pointer;\n",
              "      display: none;\n",
              "      fill: #1967D2;\n",
              "      height: 32px;\n",
              "      padding: 0 0 0 0;\n",
              "      width: 32px;\n",
              "    }\n",
              "\n",
              "    .colab-df-convert:hover {\n",
              "      background-color: #E2EBFA;\n",
              "      box-shadow: 0px 1px 2px rgba(60, 64, 67, 0.3), 0px 1px 3px 1px rgba(60, 64, 67, 0.15);\n",
              "      fill: #174EA6;\n",
              "    }\n",
              "\n",
              "    [theme=dark] .colab-df-convert {\n",
              "      background-color: #3B4455;\n",
              "      fill: #D2E3FC;\n",
              "    }\n",
              "\n",
              "    [theme=dark] .colab-df-convert:hover {\n",
              "      background-color: #434B5C;\n",
              "      box-shadow: 0px 1px 3px 1px rgba(0, 0, 0, 0.15);\n",
              "      filter: drop-shadow(0px 1px 2px rgba(0, 0, 0, 0.3));\n",
              "      fill: #FFFFFF;\n",
              "    }\n",
              "  </style>\n",
              "\n",
              "      <script>\n",
              "        const buttonEl =\n",
              "          document.querySelector('#df-8877057f-afea-47c5-9275-cc27d6228609 button.colab-df-convert');\n",
              "        buttonEl.style.display =\n",
              "          google.colab.kernel.accessAllowed ? 'block' : 'none';\n",
              "\n",
              "        async function convertToInteractive(key) {\n",
              "          const element = document.querySelector('#df-8877057f-afea-47c5-9275-cc27d6228609');\n",
              "          const dataTable =\n",
              "            await google.colab.kernel.invokeFunction('convertToInteractive',\n",
              "                                                     [key], {});\n",
              "          if (!dataTable) return;\n",
              "\n",
              "          const docLinkHtml = 'Like what you see? Visit the ' +\n",
              "            '<a target=\"_blank\" href=https://colab.research.google.com/notebooks/data_table.ipynb>data table notebook</a>'\n",
              "            + ' to learn more about interactive tables.';\n",
              "          element.innerHTML = '';\n",
              "          dataTable['output_type'] = 'display_data';\n",
              "          await google.colab.output.renderOutput(dataTable, element);\n",
              "          const docLink = document.createElement('div');\n",
              "          docLink.innerHTML = docLinkHtml;\n",
              "          element.appendChild(docLink);\n",
              "        }\n",
              "      </script>\n",
              "    </div>\n",
              "  </div>\n",
              "  "
            ]
          },
          "metadata": {},
          "execution_count": 8
        }
      ]
    },
    {
      "cell_type": "code",
      "source": [
        "news_dataset.isnull().sum()"
      ],
      "metadata": {
        "colab": {
          "base_uri": "https://localhost:8080/",
          "height": 166
        },
        "id": "Y72BBjfWQoRy",
        "outputId": "4893bd08-289c-44be-bcec-a1c3fe099f8c"
      },
      "execution_count": null,
      "outputs": [
        {
          "output_type": "error",
          "ename": "NameError",
          "evalue": "ignored",
          "traceback": [
            "\u001b[0;31m---------------------------------------------------------------------------\u001b[0m",
            "\u001b[0;31mNameError\u001b[0m                                 Traceback (most recent call last)",
            "\u001b[0;32m<ipython-input-8-f190f414f79f>\u001b[0m in \u001b[0;36m<cell line: 1>\u001b[0;34m()\u001b[0m\n\u001b[0;32m----> 1\u001b[0;31m \u001b[0mnews_dataset\u001b[0m\u001b[0;34m.\u001b[0m\u001b[0misnull\u001b[0m\u001b[0;34m(\u001b[0m\u001b[0;34m)\u001b[0m\u001b[0;34m.\u001b[0m\u001b[0msum\u001b[0m\u001b[0;34m(\u001b[0m\u001b[0;34m)\u001b[0m\u001b[0;34m\u001b[0m\u001b[0;34m\u001b[0m\u001b[0m\n\u001b[0m",
            "\u001b[0;31mNameError\u001b[0m: name 'news_dataset' is not defined"
          ]
        }
      ]
    },
    {
      "cell_type": "code",
      "source": [
        "news_dataset['content']= news_dataset['title']+''+news_dataset['text']\n"
      ],
      "metadata": {
        "id": "_GuWp-dfRDHH",
        "colab": {
          "base_uri": "https://localhost:8080/",
          "height": 166
        },
        "outputId": "b9fcbc2c-6254-438a-c82b-0d93280e1216"
      },
      "execution_count": null,
      "outputs": [
        {
          "output_type": "error",
          "ename": "NameError",
          "evalue": "ignored",
          "traceback": [
            "\u001b[0;31m---------------------------------------------------------------------------\u001b[0m",
            "\u001b[0;31mNameError\u001b[0m                                 Traceback (most recent call last)",
            "\u001b[0;32m<ipython-input-6-5e39f7a14d7c>\u001b[0m in \u001b[0;36m<cell line: 1>\u001b[0;34m()\u001b[0m\n\u001b[0;32m----> 1\u001b[0;31m \u001b[0mnews_dataset\u001b[0m\u001b[0;34m[\u001b[0m\u001b[0;34m'content'\u001b[0m\u001b[0;34m]\u001b[0m\u001b[0;34m=\u001b[0m \u001b[0mnews_dataset\u001b[0m\u001b[0;34m[\u001b[0m\u001b[0;34m'title'\u001b[0m\u001b[0;34m]\u001b[0m\u001b[0;34m+\u001b[0m\u001b[0;34m''\u001b[0m\u001b[0;34m+\u001b[0m\u001b[0mnews_dataset\u001b[0m\u001b[0;34m[\u001b[0m\u001b[0;34m'text'\u001b[0m\u001b[0;34m]\u001b[0m\u001b[0;34m\u001b[0m\u001b[0;34m\u001b[0m\u001b[0m\n\u001b[0m",
            "\u001b[0;31mNameError\u001b[0m: name 'news_dataset' is not defined"
          ]
        }
      ]
    },
    {
      "cell_type": "code",
      "source": [
        "print(news_dataset['content'])"
      ],
      "metadata": {
        "colab": {
          "base_uri": "https://localhost:8080/"
        },
        "id": "Us-xcENPSlu5",
        "outputId": "c2a72c1c-3d97-4eba-f9ee-cde0aa97f3a7"
      },
      "execution_count": null,
      "outputs": [
        {
          "output_type": "stream",
          "name": "stdout",
          "text": [
            "0       You Can Smell Hillary’s FearDaniel Greenfield,...\n",
            "1       Watch The Exact Moment Paul Ryan Committed Pol...\n",
            "2       Kerry to go to Paris in gesture of sympathyU.S...\n",
            "3       Bernie supporters on Twitter erupt in anger ag...\n",
            "4       The Battle of New York: Why This Primary Matte...\n",
            "                              ...                        \n",
            "6330    State Department says it can't find emails fro...\n",
            "6331    The ‘P’ in PBS Should Stand for ‘Plutocratic’ ...\n",
            "6332    Anti-Trump Protesters Are Tools of the Oligarc...\n",
            "6333    In Ethiopia, Obama seeks progress on peace, se...\n",
            "6334    Jeb Bush Is Suddenly Attacking Trump. Here's W...\n",
            "Name: content, Length: 6335, dtype: object\n"
          ]
        }
      ]
    },
    {
      "cell_type": "code",
      "source": [
        "x = news_dataset.drop('label',axis=1)\n",
        "y = news_dataset['label']"
      ],
      "metadata": {
        "id": "mXfcla6nS06t"
      },
      "execution_count": null,
      "outputs": []
    },
    {
      "cell_type": "markdown",
      "source": [],
      "metadata": {
        "id": "vmLcCssKTTT3"
      }
    },
    {
      "cell_type": "code",
      "source": [
        "print(x)\n",
        "print(y)"
      ],
      "metadata": {
        "colab": {
          "base_uri": "https://localhost:8080/"
        },
        "id": "a-vRAj2QUC8B",
        "outputId": "3e38b214-4072-4f20-95a1-e6e68784db66"
      },
      "execution_count": null,
      "outputs": [
        {
          "output_type": "stream",
          "name": "stdout",
          "text": [
            "      Unnamed: 0                                              title  \\\n",
            "0           8476                       You Can Smell Hillary’s Fear   \n",
            "1          10294  Watch The Exact Moment Paul Ryan Committed Pol...   \n",
            "2           3608        Kerry to go to Paris in gesture of sympathy   \n",
            "3          10142  Bernie supporters on Twitter erupt in anger ag...   \n",
            "4            875   The Battle of New York: Why This Primary Matters   \n",
            "...          ...                                                ...   \n",
            "6330        4490  State Department says it can't find emails fro...   \n",
            "6331        8062  The ‘P’ in PBS Should Stand for ‘Plutocratic’ ...   \n",
            "6332        8622  Anti-Trump Protesters Are Tools of the Oligarc...   \n",
            "6333        4021  In Ethiopia, Obama seeks progress on peace, se...   \n",
            "6334        4330  Jeb Bush Is Suddenly Attacking Trump. Here's W...   \n",
            "\n",
            "                                                   text  \\\n",
            "0     Daniel Greenfield, a Shillman Journalism Fello...   \n",
            "1     Google Pinterest Digg Linkedin Reddit Stumbleu...   \n",
            "2     U.S. Secretary of State John F. Kerry said Mon...   \n",
            "3     — Kaydee King (@KaydeeKing) November 9, 2016 T...   \n",
            "4     It's primary day in New York and front-runners...   \n",
            "...                                                 ...   \n",
            "6330  The State Department told the Republican Natio...   \n",
            "6331  The ‘P’ in PBS Should Stand for ‘Plutocratic’ ...   \n",
            "6332   Anti-Trump Protesters Are Tools of the Oligar...   \n",
            "6333  ADDIS ABABA, Ethiopia —President Obama convene...   \n",
            "6334  Jeb Bush Is Suddenly Attacking Trump. Here's W...   \n",
            "\n",
            "                                                Content  \\\n",
            "0     You Can Smell Hillary’s FearDaniel Greenfield,...   \n",
            "1     Watch The Exact Moment Paul Ryan Committed Pol...   \n",
            "2     Kerry to go to Paris in gesture of sympathyU.S...   \n",
            "3     Bernie supporters on Twitter erupt in anger ag...   \n",
            "4     The Battle of New York: Why This Primary Matte...   \n",
            "...                                                 ...   \n",
            "6330  State Department says it can't find emails fro...   \n",
            "6331  The ‘P’ in PBS Should Stand for ‘Plutocratic’ ...   \n",
            "6332  Anti-Trump Protesters Are Tools of the Oligarc...   \n",
            "6333  In Ethiopia, Obama seeks progress on peace, se...   \n",
            "6334  Jeb Bush Is Suddenly Attacking Trump. Here's W...   \n",
            "\n",
            "                                                content  \n",
            "0     You Can Smell Hillary’s FearDaniel Greenfield,...  \n",
            "1     Watch The Exact Moment Paul Ryan Committed Pol...  \n",
            "2     Kerry to go to Paris in gesture of sympathyU.S...  \n",
            "3     Bernie supporters on Twitter erupt in anger ag...  \n",
            "4     The Battle of New York: Why This Primary Matte...  \n",
            "...                                                 ...  \n",
            "6330  State Department says it can't find emails fro...  \n",
            "6331  The ‘P’ in PBS Should Stand for ‘Plutocratic’ ...  \n",
            "6332  Anti-Trump Protesters Are Tools of the Oligarc...  \n",
            "6333  In Ethiopia, Obama seeks progress on peace, se...  \n",
            "6334  Jeb Bush Is Suddenly Attacking Trump. Here's W...  \n",
            "\n",
            "[6335 rows x 5 columns]\n",
            "0       FAKE\n",
            "1       FAKE\n",
            "2       REAL\n",
            "3       FAKE\n",
            "4       REAL\n",
            "        ... \n",
            "6330    REAL\n",
            "6331    FAKE\n",
            "6332    FAKE\n",
            "6333    REAL\n",
            "6334    REAL\n",
            "Name: label, Length: 6335, dtype: object\n"
          ]
        }
      ]
    },
    {
      "cell_type": "code",
      "source": [
        "port_stem = PorterStemmer()"
      ],
      "metadata": {
        "id": "sifBOGLPURIU"
      },
      "execution_count": null,
      "outputs": []
    },
    {
      "cell_type": "code",
      "source": [
        "def stemming(content):\n",
        "  stemmed_content = re.sub('[^a-zA-z]',' ',content)\n",
        "  stemmed_content = stemmed_content.lower()\n",
        "  stemmed_content = stemmed_content.split()\n",
        "  stemmed_content = [port_stem.stem(word) for word in stemmed_content if not word in stopwords.words('english')]\n",
        "  stemmed_content = ' '.join(stemmed_content)\n",
        "  return stemmed_content"
      ],
      "metadata": {
        "id": "PtoWZizFVXcx"
      },
      "execution_count": null,
      "outputs": []
    },
    {
      "cell_type": "code",
      "source": [
        "news_dataset['content'] = news_dataset['content'].apply(stemming)"
      ],
      "metadata": {
        "id": "6w9gi-2AYbi7"
      },
      "execution_count": null,
      "outputs": []
    },
    {
      "cell_type": "code",
      "source": [
        "print(news_dataset['content'])"
      ],
      "metadata": {
        "colab": {
          "base_uri": "https://localhost:8080/"
        },
        "id": "94J7Dp4ecNeV",
        "outputId": "98ccc291-0259-4354-eb16-7d8f0f1e177f"
      },
      "execution_count": null,
      "outputs": [
        {
          "output_type": "stream",
          "name": "stdout",
          "text": [
            "0       youcansmellhillarysfeardanielgreenfieldashillm...\n",
            "1       watchtheexactmomentpaulryancommittedpoliticals...\n",
            "2       kerrytogotoparisingestureofsympathyussecretary...\n",
            "3       berniesupportersontwittereruptinangeragainstth...\n",
            "4       thebattleofnewyorkwhythisprimarymattersitsprim...\n",
            "                              ...                        \n",
            "6330    statedepartmentsaysitcantfindemailsfromclinton...\n",
            "6331    thepinpbsshouldstandforplutocraticorpentagonth...\n",
            "6332    antitrumpprotestersaretoolsoftheoligarchyinfor...\n",
            "6333    inethiopiaobamaseeksprogressonpeacesecurityine...\n",
            "6334    jebbushissuddenlyattackingtrumphereswhythatmat...\n",
            "Name: content, Length: 6335, dtype: object\n"
          ]
        }
      ]
    },
    {
      "cell_type": "code",
      "source": [
        "x= news_dataset['content'].values\n",
        "y= news_dataset['label'].values"
      ],
      "metadata": {
        "id": "BmZiKrAjcppi"
      },
      "execution_count": null,
      "outputs": []
    },
    {
      "cell_type": "code",
      "source": [
        "print(x)"
      ],
      "metadata": {
        "colab": {
          "base_uri": "https://localhost:8080/"
        },
        "id": "1ClHr9KCc2hK",
        "outputId": "78d12de0-6c70-4cf6-c3ea-ddc656c774b3"
      },
      "execution_count": null,
      "outputs": [
        {
          "output_type": "stream",
          "name": "stdout",
          "text": [
            "['youcansmellhillarysfeardanielgreenfieldashillmanjournalismfellowatthefreedomcenterisanewyorkwriterfocusingonradicalislaminthefinalstretchoftheelectionhillaryrodhamclintonhasgonetowarwiththefbithewordunprecedentedhasbeenthrownaroundsooftenthiselectionthatitoughttoberetiredbutitsstillunprecedentedforthenomineeofamajorpoliticalpartytogowarwiththefbibutthatsexactlywhathillaryandherpeoplehavedonecomapatientsjustwakingupnowandwatchinganhourofcnnfromtheirhospitalbedswouldassumethatfbidirectorjamescomeyishillarysopponentinthiselectionthefbiisunderattackbyeveryonefromobamatocnnhillaryspeoplehavecirculatedaletterattackingcomeytherearecurrentlymoremediahitpieceslambastinghimthantargetingtrumpitwouldntbetoosurprisingiftheclintonsortheiralliesweretostartrunningattackadsagainstthefbithefbisleadershipisbeingwarnedthattheentireleftwingestablishmentwillformalynchmobiftheycontinuegoingafterhillaryandthefbiscredibilityisbeingattackedbythemediaandthedemocratstopreemptivelyheadofftheresultsoftheinvestigationoftheclintonfoundationandhillaryclintonthecovertstrugglebetweenfbiagentsandobamasdojpeoplehasgoneexplosivelypublicthenewyorktimeshascomparedcomeytojedgarhooveritsbizarreheadlinejamescomeyrolerecallshooversfbifairlyornotpracticallyadmitsupfrontthatitsspoutingnonsensethebostonglobehaspublishedacolumncallingforcomeysresignationnottobeoutdonetimehasaneditorialclaimingthatthescandalisreallyanattackonallwomenjamescarvilleappearedonmsnbctoremindeveryonethathewasstillaliveandinsaneheaccusedcomeyofcoordinatingwithhouserepublicansandthekgbandyouthoughtthevastrightwingconspiracywasastretchcountlessmediastorieschargecomeywithviolatingproceduredoyouknowwhatsaproceduralviolationemailingclassifiedinformationstoredonyourbathroomserversenatorharryreidhassentcomeyaletteraccusinghimofviolatingthehatchactthehatchactisaniceideathathasasmuchrelevanceintheageofobamaasthetenthamendmentbutthecablenewsspectrumquicklyfilledwithmediahacksglancingatthewikipediaarticleonthehatchactunderthetablewhileaccusingthefbidirectorofoneofthemostawkwardconspiraciesagainsthillaryeverifjamescomeyisreallyouttohurthillaryhepickedonehellofastrangewaytodoitnottoolongagodemocratswerebreathingasighofreliefwhenhegavehillaryclintonapassinaprominentpublicstatementifhereallywereouttoelecttrumpbykeepingtheemailscandalgoingwhydidhetrashtheinvestigationwasheonthepayrollofhouserepublicansandthekgbbackthenandplayingitcoyorwasitasuddendevelopmentwherevladimirputinandpaulryantalkedhimintotakingalookatanthonyweinerscomputereithercomeyisthemostcunningfbidirectorthateverlivedorhesjustawkwardlytryingtonavigateapoliticalmessthathastrappedhimbetweenadojleadershipwhosepoliticalfuturesaretiedtohillarysvictoryandhisownbureauwhoseapoliticalagentsjustwanttobeallowedtodotheirjobstheonlytrulymysteriousthingiswhyhillaryandherassociatesdecidedtogotowarwitharespectedfederalagencymostamericanslikethefbiwhilehillaryclintonenjoysaunfavorableratinganditsaninterestingquestionhillarysoldstrategywastolieanddenythatthefbievenhadacriminalinvestigationunderwayinsteadherassociatesinsistedthatitwasasecurityreviewthefbicorrectedherandsheshruggeditoffbuttheoldbreezydenialapproachhasgivenwaytoasavageassaultonthefbipretendingthatnothingwaswrongwasabadstrategybutitwasabetteronethatpickingafightwiththefbiwhilelunaticclintonassociatestrytoclaimthatthefbiisreallythekgbtherearetwopossibleexplanationshillaryclintonmightbearrogantenoughtolashoutatthefbinowthatshebelievesthatvictoryisnearthesamekindofhubristhatledhertoplanhervictoryfireworksdisplaycouldleadhertodeclareawaronthefbiforirritatingherduringthefinalmilesofhercampaignbuttheotherexplanationisthatherpeoplepanickedgoingtowarwiththefbiisnotthebehaviorofasmartandfocusedpresidentialcampaignitsanactofdesperationwhenapresidentialcandidatedecidesthatheronlyoptionistotryanddestroythecredibilityofthefbithatsnothubrisitsfearofwhatthefbimightbeabouttorevealaboutherduringtheoriginalfbiinvestigationhillaryclintonwasconfidentthatshecouldrideitoutandshehadgoodreasonforbelievingthatbutthathillaryclintonisgoneinherplaceisaparanoidwreckwithinashortspaceoftimethepositiveclintoncampaignpromisingtounitethecountryhasbeenreplacedbyadesperateandflailingoperationthathasfocusedallitsenergyonfightingthefbitheresonlyonereasonforsuchbizarrebehaviortheclintoncampaignhasdecidedthatanfbiinvestigationofthelatestbatchofemailsposesathreattoitssurvivalandsoitsgoneallinonfightingthefbiitsanunprecedentedstepbornoffearitshardtoknowwhetherthatfearisjustifiedbuttheexistenceofthatfearalreadytellsusawholelotclintonloyalistsriggedtheoldinvestigationtheyknewtheoutcomeaheadoftimeaswellastheyknewthedebatequestionsnowsuddenlytheyarenolongerincontrolandtheyareafraidyoucansmellthefearthefbihaswiretapsfromtheinvestigationoftheclintonfoundationitsfindingnewemailsallthetimeandclintonworldpanickedthespinmeistersofclintonworldhaveclaimedthattheemailscandalisjustsomuchsmokewithoutfireallthatshereistheappearanceofimproprietywithoutanyofthesubstancebutthisisnthowyoureacttosmokeitshowyourespondtoafirethemisguidedassaultonthefbitellsusthathillaryclintonandheralliesareafraidofarevelationbiggerthanthefundamentalillegalityofheremailsetuptheemailsetupwasapreemptivecoveruptheclintoncampaignhaspanickedbadlyoutofthebeliefrightorwrongthatwhatevercrimetheillegalsetupwasmeanttocoverupisatriskofbeingexposedtheclintonshaveweatheredcountlessscandalsovertheyearswhatevertheyareprotectingthistimearoundisbiggerthantheusualcorruptionbriberysexualassaultsandabusesofpowerthathavefollowedthemaroundthroughouttheyearsthisisbiggerandmoredamagingthananyoftheallegationsthathavealreadycomeoutandtheydontwantfbiinvestigatorsanywherenearitthecampaignagainstcomeyispureintimidationitsalsoawarninganyseniorfbipeoplewhovaluetheircareersarebeingwarnedtostayawaythedemocratsareclosingranksaroundtheirnomineeagainstthefbiitsanuglyandunprecedentedsceneitmayalsobetheirlaststandhillaryclintonhasawkwardlywoundherwaythroughnumerousscandalsinjustthiselectioncyclebutshesnevershownfearordesperationbeforenowthathaschangedwhateversheisafraidofitliesburiedinheremailswithhumaabedinanditcanbringherdownlikenothingelseha'\n",
            " 'watchtheexactmomentpaulryancommittedpoliticalsuicideatatrumprallyvideogooglepinterestdigglinkedinredditstumbleuponprintdeliciouspockettumblrtherearetwofundamentaltruthsinthisworldpaulryandesperatelywantstobepresidentandpaulryanwillneverbepresidenttodayproveditinaparticularlystaggeringexampleofpoliticalcowardicepaulryanrererereversedcourseandannouncedthathewasbackonthetrumptrainafterallthiswasanaboutfacefromwherehewasafewweeksagohehadpreviouslydeclaredhewouldnotbesupportingordefendingtrumpafteratapewasmadepublicinwhichtrumpbraggedaboutassaultingwomensuddenlyryanwasappearingataprotrumprallyandboldlydeclaringthathealreadysentinhisvotetomakehimpresidentoftheunitedstatesitwasasurrealmomentthefigureheadoftherepublicanpartydosedhimselfingasolinegotuponastageonachillyafternooninwisconsinandlitamatchspeakerryansayshevotedforrealdonaldtrumprepublicansitistimetocomehomehttpstcovyttyvoepictwittercomwcvscgaiabcnewspoliticsabcpoliticsnovemberthedemocraticpartycouldnthaveaskedforabettermomentoffilmryanschancesofeverbecomingpresidentwentdowntozeroinaninstantinthewreckagetrumpistoleavebehindinhiswakethosewhocravenlybackedhiscampaignwillnotrecoverifryanscareermanagestolimpallthewaytothenthedncwillhavethistapelockedandloadedtobeusedineveryaduntilelectiondaytheringingendorsementofthemanheclearlyhatesonapersonallevelspeaksvolumesabouthisownspinelessnessryanhasposturedhimselfasaprincipledconservativeandoneuncomfortablewithtrumpsunapologeticbigotryandsexismhoweverwhenpushcametoshovepaulryanlikemanyofhiscolleaguesturnedintoasnivelingappeaserafterallhisloftytakaboutconvictionhisprincipleswereahouseofcardsandcollapsedwiththeslightestbreezewhatsespeciallybizarreishowcloseryancametomakingitthroughunscathedformonthsthespeakerofthehouserefusedtocommentontrumpatallhisstrategyseemedtobetokeephisheaddownpretendtrumpdidntexistandhopethatnobodyrememberedwhathappenedinnowjustdaysawayfromtheelectionhescreweditallupifsveryuglyelectionhasdoneanygooditsbyexposingtheuttercowardiceoftherepublicanswhooncefeignedmoralcouragearealitytelevisionstarspitonthemhijackedtheirpartyinsultedtheirwivesandgoteverylastoneofthemtokneelbeforehimwhataturnofeventsfeaturedimageviatwitt'\n",
            " 'kerrytogotoparisingestureofsympathyussecretaryofstatejohnfkerrysaidmondaythathewillstopinparislaterthisweekamidcriticismthatnotopamericanofficialsattendedsundaysunitymarchagainstterrorismkerrysaidheexpectstoarriveinparisthursdayeveningasheheadshomeafteraweekabroadhesaidhewillflytofranceattheconclusionofaseriesofmeetingsscheduledforthursdayinsofiabulgariaheplanstomeetthenextdaywithforeignministerlaurentfabiusandpresidentfrancoishollandethenreturntowashingtonthevisitbykerrywhohasfamilyandchildhoodtiestothecountryandspeaksfluentfrenchcouldaddresssomeofthecriticismthattheunitedstatessnubbedfranceinitsdarkesthourinmanyyearsthefrenchpressonmondaywasfilledwithquestionsaboutwhyneitherpresidentobamanorkerryattendedsundaysmarchasaboutleadersofothernationsdidobamawassaidtohavestayedawaybecausehisownsecurityneedscanbetaxingonacountryandkerryhadpriorcommitmentsamongroughlyleaderswhodidattendwasisraeliprimeministerbenjaminnetanyahunostrangertointensesecuritywhomarchedbesidehollandethroughthecitystreetsthehighestrankingusofficialsattendingthemarchwerejanehartleytheambassadortofranceandvictorianulandtheassistantsecretaryofstateforeuropeanaffairsattorneygeneralerichholderjrwasinparisformeetingswithlawenforcementofficialsbutdidnotparticipateinthemarchkerryspentsundayatabusinesssummithostedbyindiasprimeministernarendramoditheunitedstatesiseagerforindiatorelaxstringentlawsthatfunctionasbarrierstoforeigninvestmentandhopesmodisgovernmentwillacttoopenthehugeindianmarketformoreamericanbusinessesinanewsconferencekerrybrushedasidecriticismthattheunitedstateshadnotsentamoreseniorofficialtoparisasquibblingalittlebithenotedthatmanystaffersoftheamericanembassyinparisattendedthemarchincludingtheambassadorhesaidhehadwantedtobepresentatthemarchhimselfbutcouldnotbecauseofhispriorcommitmentsinindiabutthatiswhyiamgoingthereonthewayhometomakeitcrystalclearhowpassionatelywefeelabouttheeventsthathavetakenplacetherehesaidandidontthinkthepeopleoffrancehaveanydoubtsaboutamericasunderstandingofwhathappenedofourpersonalsenseoflossandourdeepcommitmenttothepeopleoffranceinthismomentoftrauma'\n",
            " ...\n",
            " 'antitrumpprotestersaretoolsoftheoligarchyinformationantitrumpprotestersaretoolsoftheoligarchyreformalwaysprovokesrageonthepartofthosewhoprofitbytheoldorderarthurmschlesingerjrthecrisisoftheoldorderbypaulcraigrobertswhoaretheantitrumpprotestersbesmirchingthenameofprogressivesbypretendingtobeprogressivesandbyrefusingtoaccepttheoutcomeofthepresidentialelectiontheylooklikeandareactingworsethanthewhitetrashthattheyaredenouncingithinkiknowwhotheyaretheyarethugsforhireandarepaidbytheoligarchytodelegitimizetrumpspresidencyinthewaythatwashingtonandthegermanmarshallfundpaidstudentsinkievtoprotestthedemocraticallyelectedukrainiangovernmentinordertopreparethewayforacouptheorganizationchangeorgwhichclaimstobeaprogressivegroupbutmightbeafrontalongwithotherprogressivegroupsfortheoligarchyisdestroyingthereputationofallprogressivesbycirculatingapetitionthatdirectstheelectorsoftheelectoralcollagetoannultheelectionbycastingtheirvotesforhillaryrememberhowupsetprogressiveswerewhentrumpsaidhemightnotaccepttheelectionresultiftherewasevidencethatthevotewasriggednowprogressivesaredoingwhattheydamnedtrumpforsayinghemightdoundercertainconditionsthewesternpresstitutesusedtheprotestsinkievtodelegitimizeademocraticallyelectedgovernmentandtosetitupforacouptheprotestpaywasgoodenoughthatnonukrainianscamefromnearbycountriestoparticipateintheprotestinordertocollectthemoneyatthetimeipostedtheamountspaiddailytoprotestersreportscameintomefromeasternandwesterneuropefrompeoplewhowerenotukrainianbutwerepaidtoprotestasiftheywereukrainiansthesamethingisgoingonwiththetrumpprotestscnnreportsthatformanyamericansacrossthecountrydonaldtrumpsvictoryisanoutcometheysimplyrefusetoaccepttensofthousandsfilledthestreetsinatleastuscitiesovernightthisistheexactreportingthattheoligarchydesiredfromitspresstitutesandgotihopenoonethinksthatsimultaneousprotestsincitieswereaspontaneouseventhowdidindependentprotestsmanagetocomeupwiththesameslogansandthesamesignsonthesamenightfollowingtheelectionwhatisthepointoftheprotestsandwhatinterestisservedbythemastheromansalwaysaskedwhobenefitsthereisonlyoneanswertheoligarchyandonlytheoligarchybenefitstrumpisathreattotheoligarchybecauseheintendstostopthegiveawayofamericanjobstoforeignersthejobsgiveawaysanctifiedbytheneoliberaljunkeconomistsasfreetradeisoneofthemainreasonsforthestcenturyworseningoftheusincomedistributionmoneythatwasformerlypaidinmiddleclasswagesandsalariestoamericanmanufacturingemployeesandcollegegraduateshasbeenreroutedtothepocketsoftheonepercentwhenuscorporationsmovetheirproductionofgoodsandservicessoldtoamericansoffshoretoasiancountriessuchaschinaandindiatheirwagebillfallsthemoneyformerlypaidinmiddleclassincomesgoesinsteadintoexecutivebonusesanddividendsandcapitalgainstoshareholderstheladdersofupwardmobilitythathadmadeamericathelandofopportunityweredismantledforthesolepurposeofmakingahandfulofpeoplemultibillionairestrumpisathreattotheoligarchybecauseheintendspeacefulrelationswithrussiainordertoreplacetheprofitablesovietthreattheoligarchyandtheirneoconservativeagentsworkedovertimetorecreatetherussianthreatbydemonizingrussiaaccustomedtomanydecadesofexcessprofitsfromtheprofitablecoldwarthemilitarysecuritycomplexwasangrywhenpresidentreaganbroughtthecoldwartoanendbeforetheseleachesonamericantaxpayerscouldgetthecoldwargoingagainthesovietunioncollapsedasaresultofarightwingcoupagainstsovietpresidentmikhailgorbachevthemilitarysecuritycomplexandtheirzionistneoconservativeagentscookedupthewaronterrortokeepthemoneyflowingtotheonepercentbutashardasthepresstitutemediaworkedtocreatefearofthemuslimthreateveninsouciantamericansknewthatthemuslimsdidnothavethousandsoficbmscarryingpowerfulthermonuclearweaponscapableofdestroyingtheentiretyoftheunitedstatesinafewminutesneitherdidthemuslimshavetheredarmycapableofoverrunningallofeuropeinacoupleofdaysindeedthemuslimshaventneededanarmyrefugeesfromwashingtonswarsenabledbyeuropeansareoverrunningeuropetheexcusefortheannualtrilliondollarbillionmilitarysecuritybudgetwasmissingsotheoligarchycreatedthenewhitlerinrussiahillarywastheoligarchysprincipleagentforheatingupthenewcoldwarhillaryisthetoolenrichedbytheoligarchywhosejobaspresidentwastoprotectandtoincreasethetrilliondollarbudgetofthemilitarysecuritycomplexwithhillaryinthewhitehousethelootingoftheamericantaxpayersinbehalfofthewealthoftheonepercentcouldgoforwardunimpededbutiftrumpresolvestherussianthreattheoligarchytakesanincomehithillarysjobaspresidentwasalsotoprivatizesocialsecurityinorderthatherwallstreetbenefactorscanripoffamericansthewaythatamericanshavebeenrippedoffbytheinsurancecompaniesunderobamacarethoseamericanswhodonotpayattentionthinkmistakenlythatthefbiclearedhillaryofviolatingnationalsecurityprotocolswithheremailpracticesthefbisaidthathillarydidviolatenationalsecuritybutthatitwasaresultofcarelessnessorignoranceshegotofffromindictmentbecausethefbiconcludedthatshedidnotintentionallyviolatenationalsecurityprotocolstheinvestigationoftheclintonfoundationcontinuesinotherwordsinordertoprotecthillarythefbifellbackontheancientcommonlawrulethattherecanbenocrimewithoutintentseepcrandlawrencestrattonthetyrannyofgoodintentionsonewouldthinkthatprotestersiftheywerelegitimatewouldbecelebratingtrumpsvictoryheunlikehillarypromisestoreducetensionswithpowerfulrussiaandwehopealsowithchinaunlikehillarytrumpsaysheisconcernedwiththeabsenceofcareersforthoseverypeopleprotestinginthestreetsofcitiesagainsthiminotherwordstheprotestsagainsttheamericanpeopleforelectingtrumpastheirpresidentarepointlesstheprotestsarehappeningforonereasononlytheoligarchyintendstodelegitimizethetrumppresidencyoncepresidenttrumpisdelegitimizeditwillbeeasierfortheoligarchytoassassinatehimunlesstheoligarchycanappointandcontroltrumpsgovernmenttrumpisaprimecandidateforassassinationtheprotestsagainsttrumparesuspiciousforanotherreasonunlikehillaryobamaandgeorgewbushdonaldtrumphasnotslaughteredanddislocatedmillionsofpeoplesinsevencountriessendingmillionsofrefugeesfromtheoligarchyswarstooverruneuropetrumpearnedhisfortuneandifbyhookorcrooknotbysellingusgovernmentinfluencetoforeignagentsasbillandhillarydidsowhataretheprotestersprotestingthereisnoanswerexceptthattheyarehiredtoprotestjustasthemaidanprotestersinkievwerehiredtoprotestbyusandgermanfinancedngostheprotestsinkievwereequallypointlessbecausepresidentialelectionswereonlymonthsawayifukrainiansreallybelievedthattheirpresidentwasconspiringwithrussiatokeepukrainefrombecomingawesternpuppetstateandwishedtobecomeapuppetstateregardlessofthecoststheopportunitytovotethegovernmentoutwasathandtheonlyreasonfortheprotestswastoorchestrateacouptheusdidsucceedinputtingtheiragentincontrolofthenewukrainiangovernmentasvictorianulandandtheusambassadorinkievconfirmedintheirtelephoneconversationthatisavailableontheinternetthemaidanprotestswerepointlessexceptformakingacouppossibletheprotestswerewithoutanydoubtarrangedbywashingtonthroughassistantsecretaryofstatevictorianulandaneoconservativebroughtintothestatedepartmentbyhillaryclintonforthepurposeofcreatingconflictwithrussiatrumpisbeingprotestedinordertomakehimvulnerableintheeventheprovestobethethreattotheoligarchythatheisthoughttobetrumpwonthepresidencybuttheoligarchyisstillinpowerwhichmakesanyrealreformsdifficulttoachievesymbolicreformscanbetheproductofthecontestbetweenpresidenttrumpandtheoligarchskarlmarxlearnedfromhistoricalexperienceandleninstalinandpolpotlearnedfromkarlmarxthatchangecannotoccurifthedisplacedrulingclassisleftintactafterarevolutionagainstthemwehaveproofofthisthroughoutsouthamericaeveryrevolutionbytheindigenouspeoplehasleftunmolestedthespanishrulingclassandeveryrevolutionhasbeenoverthrownbycollusionbetweentherulingclassandwashingtonwashingtonhasconspiredwithtraditionalelitestoremovetheelectedpresidentsofhondurasonanumberofoccasionsrecentlywashingtonhelpedelitesevictthefemalepresidentsofargentinaandbrazilthepresidentsofvenezuelaecuadorandboliviaareinthecrosshairsandareunlikelytosurvivewashingtonisdeterminedtogetitshandsonjulianassangetoachievethiswashingtonintendstooverthrowtheecuadorangovernmentthatindefianceofwashingtongavejulianassangepoliticalasylumhugochavezhadthepowertoexileortoexterminatethespanishrulingclassinvenezuelawhentherulingclassparticipatedinaciacoupagainstchavezbutbeforetheciacouldkillchavezthepeopleandthemilitaryforcedhisreleaseinsteadofpunishingthecriminalswhowouldhavemurderedhimchavezletthemgoaccordingtomarxleninandstalinthisistheclassicmistakeoftherevolutionarytorelyongoodwillfromtheoverthrownrulingclassisthecertainroadtothedefeatoftherevolutionlatinamericanhasproveditselfunabletolearnthislessonrevolutionscannotbeconciliatorytrumpisadealmakertheoligarchycanpermithimthesheenofsuccessinexchangefornorealchangetrumpisnotperfecthemightfailonhisownbutweshouldbackhimonthetwomostimportantelementsinhisprogramtoreducetensionsbetweenthemajornuclearpowersandtohaltwashingtonspolicyofpermittingglobalismtodestroyamericanseconomicprospectsiftensionsbetweennuclearpowersworsenwewontbeheretoworryaboutotherproblemsthecombinationoftheeconomyhollowedoutbyglobalismandimmigrationisaneconomicnightmarethattrumpunderstandsthisisreasontosupporthimnotesomebelievethattrumpisaruseconductedbytheoligarchyhoweverashillaryistheboughtandpaidforrepresentativeoftheoligarchysuchanelaborateruseisunnecessaryitispreferablefortheoligarchytowinonitsownplatformthantoinstallapresidentontheoppositeplatformandthenchangehimaroundanotherselloutincreasestheangerofthepeopleifhillaryhadwontheoligarchywouldhavehadthevotersmandatefortheirplatformdrpaulcraigrobertswasassistantsecretaryofthetreasuryforeconomicpolicyandassociateeditorofthewallstreetjournalhewascolumnistforbusinessweekscrippshowardnewsserviceandcreatorssyndicatehehashadmanyuniversityappointmentshisinternetcolumnshaveattractedaworldwidefollowingrobertslatestbooksarethefailureoflaissezfairecapitalismandeconomicdissolutionofthewesthowamericawaslostandtheneoconservativethreattoworldord'\n",
            " 'inethiopiaobamaseeksprogressonpeacesecurityineastafricaaddisababaethiopiapresidentobamaconvenedameetingwiththeleadersofseveraleastafricannationsandtheafricanuniononmondayinanefforttoaddresstheworseningsituationinsouthsudanevenashemetwithethiopiasprimeministertodiscusshowtostrengthenhumanrightsanddemocraticinstitutionsherewithnoresolutioninsightfortheongoingconflictinsouthsudanobamabroughttogethertopofficialsfromethiopiaugandakenyasudanandtheautochartoutastrategyintheeventthatthelatestroundofpeacetalksfailafricannationsledbyethiopiahavebeentryingtobrokerapeaceinsouthsudanthroughtheintergovernmentalauthorityondevelopmentigadaregionalbodyandarealmostreadytopresentapossiblecompromisetothewarringpartiesthetwosideswillhaveuntilaugtorespondtotheproposalbutadministrationofficialshavelittleexpectationthattheywillacceptitonmondayobamapraisedtheregionalleadersforshowingextraordinaryleadershipintryingtoaddressthecontinuingsituationinsouthsudanthegroupincludedethiopianprimeministerhailemariamdesalegnugandanpresidentyowerimusevenikenyanpresidentuhurukenyattaafricanunionchairpersondlaminizumaandsudansministerofforeignaffairsibrahimghandourthisgivesmeandtheusdelegationanopportunitytolearnfromthemwhatprogresshasbeenmadewherethereappearstobecontinuedroadblocksandhowwecanpartnerwiththemtomakeprogressobamasaidourhopeisthatwecanactuallybringaboutthekindofpeacethatthepeopleofsouthsudansodesperatelyneedthequestionofsouthsudananationthattheunitedstateshelpedbringintoexistenceinafteryearsofeffortbyboththegeorgewbushandobamaadministrationshasvexedamericanpolicymakersforyearsindecembersouthsudanpresidentsalvakiiraccusedriekmacharwhohadservedashisvicepresidentofattemptingacoupdetatthetwohadbeenlongtimepoliticalrivalsfromdifferentethnicgroupskiirisdinkamacharisanuerwhohadcometogethertoformagovernmentwhenthecountrywasfirstcreatedwhiletribaldifferenceshavehelpedfueltheconflictthewarhasbeenlargelyfocusedoncontrolofthenationsoilfieldssouthsudansprimarysourceofrevenueprincetonlymanusspecialenvoyforsudanandsouthsudanfromtonotedthatwhenhefirsttookoverasenvoytheunitedstateshadspentbilliononpeacekeepingandotherassistanceforthetwonationsandthatwasfouryearsagothisisabiginvestmentheaddedatthispointmorethanmillionpeoplearefacingfoodshortageswhileroughlymillionaredisplacedfromtheirhomesanadditionalsouthsudanesehavefledacrosstheborderintoneighboringcountriesincludingethiopiatheconflictalsoposesamajoreconomicproblemforkenyawhichhadmajorinvestmentsinsouthsudanbeforethefightingbrokeoutthelapssetcorridorprojectwasaimedattransportingoilfromsouthsudantothekenyanportoflamuandaccordingtoejhogendoorndeputyprogramdirectorforafricaattheinternationalcrisisgrouptheplannedtransportationandinfrastructuredevelopmentcouldhavebeenanengineofdevelopmentformanypartsofeastafricaunfortunatelyofcoursethatsonholdbecauseofthewarhesaidwhileobamaspentpartoftheafternoonaddressingaregionalconflictinafricahedevotedtherestofthedaytostrengtheningtieswithethiopiawhosealliancewiththeunitedstatesdatesbackmorethanacenturybutthecurrentgovernmenthascomeundersharpcriticismforitstreatmentofpoliticalopponentsandjournalistsobamaisthefirstsittinguspresidenttovisitethiopiainanewsconferencemondayafternoonbothobamaandhailemariamsaidtheyhadafrankdiscussionaboutethiopiashumanrightspracticesandtheneedforimprovementethiopiaisafricasnumbertwojailerofjournalistsaccordingtothecommitteetoprotectjournalistsanditsrulingpartywonpercentoftheseatsinmaysparliamentaryelectionswhitehousenationalsecurityadvisersusanriceaskedlastweekwhethersheconsideredethiopiaademocracyrepliedwithironyonehundredpercentbutduringthenewsconferenceobamatwicereferredtotheethiopiangovernmentasdemocraticallyelectedidontbitemytongueobamasaidofraisingconcernsontheseissueswithethiopiabutidosofromapositionofrespecthailemariamforhispartsaidourcommitmenttodemocracyisrealnotskindeepbutheaddedlaterthatpeoplecouldnotexpectsweepingreformsgiventhefactthatmilitaryruleendedjustacoupleofdecadesagosomethinghastobeunderstoodthisisafledglingdemocracythetwoleadersalsodiscussedtheircollaborationoncounterterrorismanareainwhichethiopiahasbeenanactiveleaderthewhitehouseannouncedmondayitwillworkwithcongresstoprovideapproximatelymillionthisyearinnewtrainingequipmentandcapacitybuildingaidtoitsafricanalliestheadministrationalsosaiditwouldprovideatleastmillioninassistancethisfiscalyeartocombatviolentextremismineastafricathemoneyisintendedtofostercollaborationamongsecurityforceslawenforcementgovernmentofficialscommunityleadersandmembersofcivilsocietyofficialssaidobamapraisedethiopiasworktocurbextremistactivitybutnotedthatitsgovernmenthadlabeledsomeoppositiongroupsasposingagreaterthreatthanusintelligencewouldindicateourintelligenceindicateswhiletheymayopposethegovernmenttheyhavenottippedintoterrorismhesaidtheunitedstatesprovidesmorethanmillioninassistancetoethiopiaannuallythevastbulkofthatmillioncomesfromtheusagencyforinternationaldevelopmentwhiletherestislargelysecurityrelatedlastfiscalyearnearlymillionwenttohealthprogramswhilemillionwenttohumanitarianaidobamasaidethiopiahasprovenitselfagloballeaderondevelopmentandoverthepastyearshasliftedmillionsofpeopleoutofpovertytomanypeoplearoundtheworldtheirimageofethiopiaremainsstuckinthepastrememberingdroughtandfaminehesaidthetwoleadersappearedtohaveafriendlyrapportthroughoutthenewsconferencehailemariamdescribedhiscountryasscoringaseriesoffirstsalongwithbeingthecradleofmankindhesaidethiopiaisthebirthplaceofcoffeethatelicitedasmilefromobamaobamasaidhewasimpressedbytheethiopiansunusualpetsihadachancetoseethefamouslionsthatliveonthegroundshesaidimconsideringgettingsomeforthewhitehousebutheconcededthatbeforehedidthatillhavetomakesuremydogsaresaf'\n",
            " 'jebbushissuddenlyattackingtrumphereswhythatmattersjebbushissuddenlyattackingtrumphereswhythatmattersjebbushisntpullingpunchesanymorewhenitcomestodonaldtrumptheformerfloridagovernorhasdelicatelydancedaroundthebillionairebusinessmaninthepresidentialprimarysofarbuttheglovescameoffthisweekwhenbushcalledouttrumpasaclosetdemocrathewastryingtostunttrumpsrisewhileattemptingtorecoverhisownpoliticalmojowhatjebisdesperatelytryingtodoisfindhisswaggerrightnowgopstrategistfordoconnellsaidtheknockagainstjebisthatheslowvoltageandnotwillingtofightthebestwaytoshakethoseperceptionsittoengageagainstthepersonwhoisinthemediaonaloopitsachangefrombushsapproachtothispointhehasntlobbedmanydirectattacksattrumpotherthandelicatelycondemninghiscriticismofarizonasenjohnmccainswarserviceandhisattacksagainstfoxnewsmegynkellyeveninthismonthsfirstdebatebushswatteddownastorythathehadallegedlycalledtrumpabuffoonandaclownsayingonlythattrumpslanguagehadbeendivisivetrumpcalledbushatruegentlemanthedetenteendedthisweeksofarmostofthetoptiercandidateshaveavoideddirectlyattackingtrumptreatinghimwithkidglovessoasnottoangerthepartofthegopbasetowhichtrumpappealsinotherwordstheveryvoterstheyneedwhentheyhopetrumpfadesinsplitscreennewhampshiretownhallsthisweekbushandtrumpvolleyedattacksoneachotherbushtookhismostpointedjabsatthecurrentfrontrunnerunderscoringtrumpspasthistoryasademocratandtheliberalpositionsheusedtoholdmrtrumpdoesnthaveaprovenconservativerecordbushsaidaccordingtothewashingtonposthewasademocratlongerinthelastdecadethanhewasarepublicanhehasgivenmoremoneytodemocratsthanhesgiventorepublicansbushwentontoattacktrumpoverhishardlineimmigrationproposalarguingitwasnotjustvitriolicbutwouldhaveamassivepricetaghundredsofbillionsofdollarsofcoststoimplementhisplansisnotaconservativeplanbushsaidthisisgoingtobemypitchletssupportsomeonewhoyoudonthavetoguesswherehestandsbecausehesconsistentbecausehesbeengovernorhesconsistentlyhadtheviewsthathehasoverthenextfewdaysbushcontinuedthehitsonsocialmediabuttrumpneveronetomissamomenttoretaliatedidntpullhispuncheseitherathisowntownhallwednesdaytrumpblastedbushasanunelectablelowenergypersonyouknowwhatshappeningtojebscrowdjustdownthestreettheyresleepingtrumpsaidtoapplausesincethentrumphasalsorampeduphisattacksagainstbushontwitterthemovetomorehotrhetoricmayhavetrippedbushupthoughconsiderhisuseofthephraseanchorbabieswhileimmigrationreformissomethingbushispassionateaboutandhasevenwrittenabookabouthesoftencriticizedwithinthegopastooliberalontheissueinsteadamorecombativebushappearedtousetheloadedphraseforthefirsttimehewasleftstrugglingtodefendhisuseofititmayhavebeenasignalthattheattackdogcrouchhestakingisstillonethatisntcompletelycomfortabletobushwhoearliersaidhewantedtocampaignjoyfullyothercandidateshaveembracedhittingtrumpkentuckysenrandpaulwentafterhimforcefullyinthedebatethoughhispunchthattrumpwashedginghisbetstosupporthillaryclintonifshewinsthepresidencydidntappeartolandothercandidateslikeohiogovjohnkasichdemurredintheearliergopdebatethatnightformertexasgovrickperryandbusinesswomancarlyfiorinaalsojabbedattrumpbushthoughneedstoclosethefloodgateshesdroppedinnationalpollsastrumphasrisenandinnewhampshirewherebushonceledtrumpandevennewcomerkasichhaveseensurgescullenaformernewhampshiregopchairmansaidthechangeintoneandtacticswasasmartmoveforbushonethatcouldhelphiminthegranitestateithinkitsgoodpoliticsforjebsaidferguscullenaformernewhampshirerepublicanpartychairmantherespercentoftherepublicanswhoareentertainedbydonaldtrumpbuttherespercentofthepartywhosaytheywontvoteforhimunderanycircumstancesthosearentjebbushspeopletobeginwithhestryingtoappealtotheotherpercentbybeingtheadultintheroomandtryingtogovernoconnellagreedhepointedoutthatevenifthisnewapproachisonethatsuncomfortableforbushitsnecessaryinalotofelectionsbeingthestudiousonewouldhaveworkedhesaidbuttrumphasflippedthescript']\n"
          ]
        }
      ]
    },
    {
      "cell_type": "code",
      "source": [
        "y.shape"
      ],
      "metadata": {
        "colab": {
          "base_uri": "https://localhost:8080/"
        },
        "id": "NO9F8Kb0ieXX",
        "outputId": "a3dc310b-da78-483d-9089-e41ebf79c663"
      },
      "execution_count": null,
      "outputs": [
        {
          "output_type": "execute_result",
          "data": {
            "text/plain": [
              "(6335,)"
            ]
          },
          "metadata": {},
          "execution_count": 47
        }
      ]
    },
    {
      "cell_type": "code",
      "source": [
        "print(y)"
      ],
      "metadata": {
        "colab": {
          "base_uri": "https://localhost:8080/"
        },
        "id": "Vwby_49iim4U",
        "outputId": "f40f3ec8-7bb3-405e-c496-c8b3634ccab7"
      },
      "execution_count": null,
      "outputs": [
        {
          "output_type": "stream",
          "name": "stdout",
          "text": [
            "['FAKE' 'FAKE' 'REAL' ... 'FAKE' 'REAL' 'REAL']\n"
          ]
        }
      ]
    },
    {
      "cell_type": "code",
      "source": [
        "Vectorizer = TfidfVectorizer()\n",
        "Vectorizer.fit(x)\n",
        "\n",
        "x = Vectorizer.transform(x)"
      ],
      "metadata": {
        "id": "UhwYzu4di2UN"
      },
      "execution_count": null,
      "outputs": []
    },
    {
      "cell_type": "code",
      "source": [
        "print(x)"
      ],
      "metadata": {
        "colab": {
          "base_uri": "https://localhost:8080/"
        },
        "id": "3Fi0hBuKjQJG",
        "outputId": "c487f79c-2a6a-43f1-d45a-b06e23928858"
      },
      "execution_count": null,
      "outputs": [
        {
          "output_type": "stream",
          "name": "stdout",
          "text": [
            "  (0, 11242)\t1.0\n",
            "  (1, 10523)\t1.0\n",
            "  (2, 5211)\t1.0\n",
            "  (3, 2735)\t0.6215463638295912\n",
            "  (3, 992)\t0.7833773787965884\n",
            "  (4, 8672)\t1.0\n",
            "  (5, 8537)\t1.0\n",
            "  (6, 3403)\t1.0\n",
            "  (7, 1222)\t1.0\n",
            "  (8, 10106)\t0.447213595499958\n",
            "  (8, 6715)\t0.447213595499958\n",
            "  (8, 3318)\t0.447213595499958\n",
            "  (8, 2914)\t0.447213595499958\n",
            "  (8, 508)\t0.447213595499958\n",
            "  (9, 4651)\t1.0\n",
            "  (10, 11091)\t1.0\n",
            "  (11, 2526)\t1.0\n",
            "  (12, 10354)\t0.47570509314476256\n",
            "  (12, 8354)\t0.671197528447667\n",
            "  (12, 1615)\t0.5685055339764741\n",
            "  (13, 10527)\t1.0\n",
            "  (14, 10005)\t1.0\n",
            "  (15, 7988)\t0.5773502691896258\n",
            "  (15, 4200)\t0.5773502691896258\n",
            "  (15, 3509)\t0.5773502691896258\n",
            "  :\t:\n",
            "  (6321, 387)\t0.06726727939963116\n",
            "  (6321, 304)\t0.06726727939963116\n",
            "  (6321, 204)\t0.06726727939963116\n",
            "  (6321, 190)\t0.06726727939963116\n",
            "  (6321, 176)\t0.06726727939963116\n",
            "  (6321, 77)\t0.06726727939963116\n",
            "  (6321, 3)\t0.06726727939963116\n",
            "  (6322, 7247)\t1.0\n",
            "  (6323, 7028)\t0.5773502691896258\n",
            "  (6323, 4271)\t0.5773502691896258\n",
            "  (6323, 980)\t0.5773502691896258\n",
            "  (6324, 183)\t1.0\n",
            "  (6325, 11068)\t1.0\n",
            "  (6326, 2424)\t1.0\n",
            "  (6327, 3495)\t1.0\n",
            "  (6328, 7284)\t1.0\n",
            "  (6329, 699)\t1.0\n",
            "  (6330, 8283)\t1.0\n",
            "  (6331, 9134)\t0.509458400045214\n",
            "  (6331, 8600)\t0.509458400045214\n",
            "  (6331, 7143)\t0.509458400045214\n",
            "  (6331, 2647)\t0.4704852982507659\n",
            "  (6332, 494)\t1.0\n",
            "  (6333, 4426)\t1.0\n",
            "  (6334, 4990)\t1.0\n"
          ]
        }
      ]
    },
    {
      "cell_type": "code",
      "source": [
        "x_train, x_test, y_train, y_test = train_test_split(x, y, test_size=0.2, stratify=y, random_state=2)"
      ],
      "metadata": {
        "id": "DhIPwyGFjUbB"
      },
      "execution_count": null,
      "outputs": []
    },
    {
      "cell_type": "code",
      "source": [
        "\n",
        "model = LogisticRegression()"
      ],
      "metadata": {
        "id": "sXv6KL9Fjpbz"
      },
      "execution_count": null,
      "outputs": []
    },
    {
      "cell_type": "code",
      "source": [
        "model.fit(x_train, y_train)"
      ],
      "metadata": {
        "colab": {
          "base_uri": "https://localhost:8080/",
          "height": 75
        },
        "id": "9yqGk0c3keUV",
        "outputId": "2a11403e-41c7-4ce7-c18d-4187319f9feb"
      },
      "execution_count": null,
      "outputs": [
        {
          "output_type": "execute_result",
          "data": {
            "text/plain": [
              "LogisticRegression()"
            ],
            "text/html": [
              "<style>#sk-container-id-4 {color: black;background-color: white;}#sk-container-id-4 pre{padding: 0;}#sk-container-id-4 div.sk-toggleable {background-color: white;}#sk-container-id-4 label.sk-toggleable__label {cursor: pointer;display: block;width: 100%;margin-bottom: 0;padding: 0.3em;box-sizing: border-box;text-align: center;}#sk-container-id-4 label.sk-toggleable__label-arrow:before {content: \"▸\";float: left;margin-right: 0.25em;color: #696969;}#sk-container-id-4 label.sk-toggleable__label-arrow:hover:before {color: black;}#sk-container-id-4 div.sk-estimator:hover label.sk-toggleable__label-arrow:before {color: black;}#sk-container-id-4 div.sk-toggleable__content {max-height: 0;max-width: 0;overflow: hidden;text-align: left;background-color: #f0f8ff;}#sk-container-id-4 div.sk-toggleable__content pre {margin: 0.2em;color: black;border-radius: 0.25em;background-color: #f0f8ff;}#sk-container-id-4 input.sk-toggleable__control:checked~div.sk-toggleable__content {max-height: 200px;max-width: 100%;overflow: auto;}#sk-container-id-4 input.sk-toggleable__control:checked~label.sk-toggleable__label-arrow:before {content: \"▾\";}#sk-container-id-4 div.sk-estimator input.sk-toggleable__control:checked~label.sk-toggleable__label {background-color: #d4ebff;}#sk-container-id-4 div.sk-label input.sk-toggleable__control:checked~label.sk-toggleable__label {background-color: #d4ebff;}#sk-container-id-4 input.sk-hidden--visually {border: 0;clip: rect(1px 1px 1px 1px);clip: rect(1px, 1px, 1px, 1px);height: 1px;margin: -1px;overflow: hidden;padding: 0;position: absolute;width: 1px;}#sk-container-id-4 div.sk-estimator {font-family: monospace;background-color: #f0f8ff;border: 1px dotted black;border-radius: 0.25em;box-sizing: border-box;margin-bottom: 0.5em;}#sk-container-id-4 div.sk-estimator:hover {background-color: #d4ebff;}#sk-container-id-4 div.sk-parallel-item::after {content: \"\";width: 100%;border-bottom: 1px solid gray;flex-grow: 1;}#sk-container-id-4 div.sk-label:hover label.sk-toggleable__label {background-color: #d4ebff;}#sk-container-id-4 div.sk-serial::before {content: \"\";position: absolute;border-left: 1px solid gray;box-sizing: border-box;top: 0;bottom: 0;left: 50%;z-index: 0;}#sk-container-id-4 div.sk-serial {display: flex;flex-direction: column;align-items: center;background-color: white;padding-right: 0.2em;padding-left: 0.2em;position: relative;}#sk-container-id-4 div.sk-item {position: relative;z-index: 1;}#sk-container-id-4 div.sk-parallel {display: flex;align-items: stretch;justify-content: center;background-color: white;position: relative;}#sk-container-id-4 div.sk-item::before, #sk-container-id-4 div.sk-parallel-item::before {content: \"\";position: absolute;border-left: 1px solid gray;box-sizing: border-box;top: 0;bottom: 0;left: 50%;z-index: -1;}#sk-container-id-4 div.sk-parallel-item {display: flex;flex-direction: column;z-index: 1;position: relative;background-color: white;}#sk-container-id-4 div.sk-parallel-item:first-child::after {align-self: flex-end;width: 50%;}#sk-container-id-4 div.sk-parallel-item:last-child::after {align-self: flex-start;width: 50%;}#sk-container-id-4 div.sk-parallel-item:only-child::after {width: 0;}#sk-container-id-4 div.sk-dashed-wrapped {border: 1px dashed gray;margin: 0 0.4em 0.5em 0.4em;box-sizing: border-box;padding-bottom: 0.4em;background-color: white;}#sk-container-id-4 div.sk-label label {font-family: monospace;font-weight: bold;display: inline-block;line-height: 1.2em;}#sk-container-id-4 div.sk-label-container {text-align: center;}#sk-container-id-4 div.sk-container {/* jupyter's `normalize.less` sets `[hidden] { display: none; }` but bootstrap.min.css set `[hidden] { display: none !important; }` so we also need the `!important` here to be able to override the default hidden behavior on the sphinx rendered scikit-learn.org. See: https://github.com/scikit-learn/scikit-learn/issues/21755 */display: inline-block !important;position: relative;}#sk-container-id-4 div.sk-text-repr-fallback {display: none;}</style><div id=\"sk-container-id-4\" class=\"sk-top-container\"><div class=\"sk-text-repr-fallback\"><pre>LogisticRegression()</pre><b>In a Jupyter environment, please rerun this cell to show the HTML representation or trust the notebook. <br />On GitHub, the HTML representation is unable to render, please try loading this page with nbviewer.org.</b></div><div class=\"sk-container\" hidden><div class=\"sk-item\"><div class=\"sk-estimator sk-toggleable\"><input class=\"sk-toggleable__control sk-hidden--visually\" id=\"sk-estimator-id-4\" type=\"checkbox\" checked><label for=\"sk-estimator-id-4\" class=\"sk-toggleable__label sk-toggleable__label-arrow\">LogisticRegression</label><div class=\"sk-toggleable__content\"><pre>LogisticRegression()</pre></div></div></div></div></div>"
            ]
          },
          "metadata": {},
          "execution_count": 64
        }
      ]
    },
    {
      "cell_type": "code",
      "source": [
        "x_train_prediction =model.predict(x_train)\n",
        "training_data_accuracy = accuracy_score(x_train_prediction, y_train)"
      ],
      "metadata": {
        "id": "iIeCpHxNkegD"
      },
      "execution_count": null,
      "outputs": []
    },
    {
      "cell_type": "code",
      "source": [
        "print('Accuracy score of the training data :', training_data_accuracy)"
      ],
      "metadata": {
        "colab": {
          "base_uri": "https://localhost:8080/"
        },
        "id": "0mD48WOxk894",
        "outputId": "27cd8cdd-7653-41de-9120-db52fbd0d451"
      },
      "execution_count": null,
      "outputs": [
        {
          "output_type": "stream",
          "name": "stdout",
          "text": [
            "Accuracy score of the training data : 0.9990134175217048\n"
          ]
        }
      ]
    },
    {
      "cell_type": "code",
      "source": [
        "x_test_prediction = model.predict(x_test)\n",
        "test_data_accuracy = accuracy_score(x_test_prediction, y_test)"
      ],
      "metadata": {
        "id": "-vaTtbGWmMza"
      },
      "execution_count": null,
      "outputs": []
    },
    {
      "cell_type": "code",
      "source": [
        "print('Accuracy score of the training data :', test_data_accuracy)"
      ],
      "metadata": {
        "colab": {
          "base_uri": "https://localhost:8080/"
        },
        "id": "GwcaMY_DnKxg",
        "outputId": "535a4cdc-b19b-4084-9046-f9bbbe234d6f"
      },
      "execution_count": null,
      "outputs": [
        {
          "output_type": "stream",
          "name": "stdout",
          "text": [
            "Accuracy score of the training data : 0.5224940805051302\n"
          ]
        }
      ]
    },
    {
      "cell_type": "code",
      "source": [
        "x_new =x_test[0]\n",
        "prediction = model.predict(x_new)\n",
        "print(prediction)\n",
        "if (prediction[0]==0):\n",
        "  print('the news is real')\n",
        "else:\n",
        "  print('the news is fake')"
      ],
      "metadata": {
        "colab": {
          "base_uri": "https://localhost:8080/",
          "height": 235
        },
        "id": "g_taTbr0pAev",
        "outputId": "01c45788-1e55-4ade-9840-7c201cc250d9"
      },
      "execution_count": null,
      "outputs": [
        {
          "output_type": "error",
          "ename": "NameError",
          "evalue": "ignored",
          "traceback": [
            "\u001b[0;31m---------------------------------------------------------------------------\u001b[0m",
            "\u001b[0;31mNameError\u001b[0m                                 Traceback (most recent call last)",
            "\u001b[0;32m<ipython-input-4-5cf11e0c190d>\u001b[0m in \u001b[0;36m<cell line: 1>\u001b[0;34m()\u001b[0m\n\u001b[0;32m----> 1\u001b[0;31m \u001b[0mx_new\u001b[0m \u001b[0;34m=\u001b[0m\u001b[0mx_test\u001b[0m\u001b[0;34m[\u001b[0m\u001b[0;36m0\u001b[0m\u001b[0;34m]\u001b[0m\u001b[0;34m\u001b[0m\u001b[0;34m\u001b[0m\u001b[0m\n\u001b[0m\u001b[1;32m      2\u001b[0m \u001b[0mprediction\u001b[0m \u001b[0;34m=\u001b[0m \u001b[0mmodel\u001b[0m\u001b[0;34m.\u001b[0m\u001b[0mpredict\u001b[0m\u001b[0;34m(\u001b[0m\u001b[0mx_new\u001b[0m\u001b[0;34m)\u001b[0m\u001b[0;34m\u001b[0m\u001b[0;34m\u001b[0m\u001b[0m\n\u001b[1;32m      3\u001b[0m \u001b[0mprint\u001b[0m\u001b[0;34m(\u001b[0m\u001b[0mprediction\u001b[0m\u001b[0;34m)\u001b[0m\u001b[0;34m\u001b[0m\u001b[0;34m\u001b[0m\u001b[0m\n\u001b[1;32m      4\u001b[0m \u001b[0;32mif\u001b[0m \u001b[0;34m(\u001b[0m\u001b[0mprediction\u001b[0m\u001b[0;34m[\u001b[0m\u001b[0;36m0\u001b[0m\u001b[0;34m]\u001b[0m\u001b[0;34m==\u001b[0m\u001b[0;36m0\u001b[0m\u001b[0;34m)\u001b[0m\u001b[0;34m:\u001b[0m\u001b[0;34m\u001b[0m\u001b[0;34m\u001b[0m\u001b[0m\n\u001b[1;32m      5\u001b[0m   \u001b[0mprint\u001b[0m\u001b[0;34m(\u001b[0m\u001b[0;34m'the news is real'\u001b[0m\u001b[0;34m)\u001b[0m\u001b[0;34m\u001b[0m\u001b[0;34m\u001b[0m\u001b[0m\n",
            "\u001b[0;31mNameError\u001b[0m: name 'x_test' is not defined"
          ]
        }
      ]
    },
    {
      "cell_type": "code",
      "source": [
        "print(x_test[0])"
      ],
      "metadata": {
        "colab": {
          "base_uri": "https://localhost:8080/"
        },
        "id": "8iads8QyqXyf",
        "outputId": "eaa858c8-b5c2-4ba4-bcce-49f21bd819b5"
      },
      "execution_count": null,
      "outputs": [
        {
          "output_type": "stream",
          "name": "stdout",
          "text": [
            "  (0, 9747)\t1.0\n"
          ]
        }
      ]
    },
    {
      "cell_type": "code",
      "source": [
        "print(x_test[600])"
      ],
      "metadata": {
        "colab": {
          "base_uri": "https://localhost:8080/"
        },
        "id": "TBn1EvXHqrGK",
        "outputId": "68d23c1c-18b3-45a3-a29e-8ef2757f9411"
      },
      "execution_count": null,
      "outputs": [
        {
          "output_type": "stream",
          "name": "stdout",
          "text": [
            "  (0, 3440)\t1.0\n"
          ]
        }
      ]
    }
  ]
}